{
 "cells": [
  {
   "cell_type": "markdown",
   "id": "caaf8398",
   "metadata": {},
   "source": [
    "# PyTorch IO 介紹\n",
    "* 梯度下降時, 需要隨機讀數張影像近來, 並且對影像做data augmentation, 如果這些事卡到訓練流程就不好了\n",
    "* torch.utils.data.Dataset 跟 torch.utils.data.DataLoader 就是在解決這問題"
   ]
  },
  {
   "cell_type": "code",
   "execution_count": null,
   "id": "5fdaff02",
   "metadata": {},
   "outputs": [],
   "source": [
    "import PIL.Image as Image\n",
    "import matplotlib.pyplot as plt\n",
    "import numpy as np\n",
    "import os\n",
    "import torch\n",
    "import torchvision.transforms as transforms"
   ]
  },
  {
   "cell_type": "code",
   "execution_count": null,
   "id": "6f838ab7",
   "metadata": {},
   "outputs": [],
   "source": [
    "class MnistImageDataset(torch.utils.data.Dataset):\n",
    "    def __init__(self, img_dir, transform=None):\n",
    "        self.img_dir = img_dir\n",
    "        self.img_names_label = []\n",
    "        for cls in range(10):\n",
    "            dir = os.path.join(self.img_dir, str(cls))\n",
    "            for i in os.listdir(dir):\n",
    "                self.img_names_label.append((i, cls))\n",
    "\n",
    "        self.transform = transform\n",
    "\n",
    "    def __len__(self):\n",
    "        return len(self.img_names_label)\n",
    "\n",
    "    def __getitem__(self, idx):\n",
    "        img_path = os.path.join(self.img_dir, \n",
    "                                str(self.img_names_label[idx][1]), self.img_names_label[idx][0])\n",
    "        image = Image.open(img_path, mode='r')\n",
    "        if self.transform:\n",
    "            image = self.transform(image)\n",
    "        \n",
    "        image = transforms.ToTensor()(image)\n",
    "        label = self.img_names_label[idx][1]\n",
    "        return image, label"
   ]
  },
  {
   "cell_type": "code",
   "execution_count": null,
   "id": "356f9cfc",
   "metadata": {},
   "outputs": [],
   "source": [
    "train_dataset = MnistImageDataset(img_dir='/Data/dataset_zoo/mnist/train')\n",
    "train_dataloader = torch.utils.data.DataLoader(\n",
    "    train_dataset, batch_size=4, shuffle=True, num_workers=1, pin_memory=False, prefetch_factor=2, persistent_workers=True)\n",
    "\n",
    "for x, y in train_dataloader:\n",
    "    print(x.shape)\n",
    "    print(y[0])\n",
    "    break\n",
    "\n",
    "plt.imshow(x[0].squeeze())"
   ]
  },
  {
   "cell_type": "markdown",
   "id": "ea5980aa",
   "metadata": {},
   "source": [
    "# Data Augmentation\n",
    "* 對 training data 做一些影像處理, 可增加訓練資料的多樣性"
   ]
  },
  {
   "cell_type": "code",
   "execution_count": null,
   "id": "a8614f42",
   "metadata": {},
   "outputs": [],
   "source": [
    "transform = transforms.Compose([\n",
    "    transforms.RandomVerticalFlip(p=1),\n",
    "    transforms.RandomHorizontalFlip(p=0.9),\n",
    "])\n",
    "\n",
    "train_aug_dataset = MnistImageDataset(img_dir='/Data/dataset_zoo/mnist/train', transform=transform)\n",
    "train_aug_dataloader = torch.utils.data.DataLoader(\n",
    "    train_aug_dataset, batch_size=4, shuffle=True)\n",
    "\n",
    "x, y = next(iter(train_aug_dataloader))\n",
    "print(x.shape)\n",
    "print(y[0])\n",
    "plt.imshow(x[0].squeeze())"
   ]
  },
  {
   "cell_type": "code",
   "execution_count": null,
   "id": "104133dd",
   "metadata": {},
   "outputs": [],
   "source": [
    "transform_set = [\n",
    "    transforms.GaussianBlur(7,3),\n",
    "    transforms.RandomRotation(30)\n",
    "]\n",
    "\n",
    "transform = transforms.Compose([\n",
    "    transforms.RandomVerticalFlip(p=1),\n",
    "    transforms.RandomHorizontalFlip(p=0.9),\n",
    "    transforms.RandomApply(transform_set, p=0.5)\n",
    "])\n",
    "\n",
    "train_aug_dataset = MnistImageDataset(img_dir='/Data/dataset_zoo/mnist/train', transform=transform)\n",
    "train_aug_dataloader = torch.utils.data.DataLoader(\n",
    "    train_aug_dataset, batch_size=4, shuffle=True, num_workers=1, pin_memory=False, prefetch_factor=2, persistent_workers=True)\n",
    "\n",
    "x, y = next(iter(train_aug_dataloader))\n",
    "print(x.shape)\n",
    "print(y[0])\n",
    "plt.imshow(x[0].squeeze())"
   ]
  }
 ],
 "metadata": {
  "kernelspec": {
   "display_name": "Python 3 (ipykernel)",
   "language": "python",
   "name": "python3"
  },
  "language_info": {
   "codemirror_mode": {
    "name": "ipython",
    "version": 3
   },
   "file_extension": ".py",
   "mimetype": "text/x-python",
   "name": "python",
   "nbconvert_exporter": "python",
   "pygments_lexer": "ipython3",
   "version": "3.7.10"
  }
 },
 "nbformat": 4,
 "nbformat_minor": 5
}
