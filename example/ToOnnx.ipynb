{
 "cells": [
  {
   "cell_type": "code",
   "execution_count": null,
   "id": "fe3472f1",
   "metadata": {},
   "outputs": [],
   "source": [
    "import matplotlib.pyplot as plt\n",
    "import numpy as np\n",
    "import onnxruntime\n",
    "import PIL.Image as Image\n",
    "import torch\n",
    "import torch.onnx\n",
    "import torchvision\n",
    "from mnist import ConvNet"
   ]
  },
  {
   "cell_type": "code",
   "execution_count": null,
   "id": "6ed35fae",
   "metadata": {},
   "outputs": [],
   "source": [
    "num_classes = 10\n",
    "\n",
    "model = ConvNet(num_classes)\n",
    "model.load_state_dict(torch.load('model.ckpt'))\n",
    "model.eval()\n",
    "\n",
    "dummy_input = torch.randn((1, 1, 28, 28))\n",
    "torch.onnx.export(model, dummy_input, \"model.onnx\")"
   ]
  },
  {
   "cell_type": "code",
   "execution_count": null,
   "id": "07b3fb5a",
   "metadata": {},
   "outputs": [],
   "source": [
    "x = Image.open('mnist_2.jpg', mode='r')\n",
    "x_th = torchvision.transforms.ToTensor()(x).reshape(1, 1, 28, 28)\n",
    "x_np = np.asarray(x_th)"
   ]
  },
  {
   "cell_type": "code",
   "execution_count": null,
   "id": "97e0916b",
   "metadata": {},
   "outputs": [],
   "source": [
    "y_th = model(x_th)\n",
    "\n",
    "session = onnxruntime.InferenceSession(\"model.onnx\")\n",
    "inname = [input.name for input in session.get_inputs()]\n",
    "outname = [output.name for output in session.get_outputs()]\n",
    "y_np = session.run(outname, {inname[0]: x_np})\n",
    "\n",
    "plt.imshow(x)\n",
    "print(f'PyTorch result = {y_th}')\n",
    "print(f'ONNX result = {y_np}')"
   ]
  }
 ],
 "metadata": {
  "kernelspec": {
   "display_name": "Python 3 (ipykernel)",
   "language": "python",
   "name": "python3"
  },
  "language_info": {
   "codemirror_mode": {
    "name": "ipython",
    "version": 3
   },
   "file_extension": ".py",
   "mimetype": "text/x-python",
   "name": "python",
   "nbconvert_exporter": "python",
   "pygments_lexer": "ipython3",
   "version": "3.7.10"
  }
 },
 "nbformat": 4,
 "nbformat_minor": 5
}
