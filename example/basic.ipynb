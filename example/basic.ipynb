{
 "cells": [
  {
   "cell_type": "code",
   "execution_count": null,
   "id": "90e5f4ce",
   "metadata": {},
   "outputs": [],
   "source": [
    "import torch\n",
    "import math\n",
    "\n",
    "dtype = torch.float\n",
    "device = torch.device(\"cpu\")\n",
    "# device = torch.device(\"cuda:0\") # Uncomment this to run on GPU"
   ]
  },
  {
   "cell_type": "markdown",
   "id": "e1961121",
   "metadata": {},
   "source": [
    "* 利用 y = sin(x), 產生測試資料, 目標是訓練一個模型,給定 x, 可以預測 y\n",
    "* 我們的模型是 y_pred = a + b x + c x^2 + d x^3, 其中 a, b, c, d 為訓練參數\n",
    "* 使用梯度下降, 學 a, b, c, d\n",
    "* 目標函數為 L = (y_pred - y)^2\n",
    "![image](https://img-blog.csdnimg.cn/20181201204534330.png?x-oss-process=image/watermark,type_ZmFuZ3poZW5naGVpdGk,shadow_10,text_aHR0cHM6Ly9ibG9nLmNzZG4ubmV0L3FxcWlucnVp,size_16,color_FFFFFF,t_70)"
   ]
  },
  {
   "cell_type": "code",
   "execution_count": null,
   "id": "f86497a0",
   "metadata": {},
   "outputs": [],
   "source": [
    "# Testing data - Create random input and output data\n",
    "x = torch.linspace(-math.pi, math.pi, 2000, device=device, dtype=dtype)\n",
    "y = torch.sin(x)\n",
    "\n",
    "print(x.shape)\n",
    "print(y.shape)"
   ]
  },
  {
   "cell_type": "code",
   "execution_count": null,
   "id": "306964ed",
   "metadata": {},
   "outputs": [],
   "source": [
    "# Randomly initialize weights\n",
    "a = torch.randn((), device=device, dtype=dtype)\n",
    "b = torch.randn((), device=device, dtype=dtype)\n",
    "c = torch.randn((), device=device, dtype=dtype)\n",
    "d = torch.randn((), device=device, dtype=dtype)\n",
    "\n",
    "# Gradient descent\n",
    "learning_rate = 1e-6\n",
    "print('iteration\\tloss')\n",
    "for t in range(2000):\n",
    "    # Forward pass: compute predicted y\n",
    "    y_pred = a + b * x + c * x ** 2 + d * x ** 3\n",
    "\n",
    "    # Compute and print loss\n",
    "    loss = (y_pred - y).pow(2).sum().item()\n",
    "    if t % 100 == 0:\n",
    "        print(f'{t}\\t{loss}')\n",
    "\n",
    "    # Backprop to compute gradients of a, b, c, d with respect to loss\n",
    "    grad_y_pred = 2.0 * (y_pred - y)\n",
    "    grad_a = grad_y_pred.sum()\n",
    "    grad_b = (grad_y_pred * x).sum()\n",
    "    grad_c = (grad_y_pred * x ** 2).sum()\n",
    "    grad_d = (grad_y_pred * x ** 3).sum()\n",
    "\n",
    "    # Update weights using gradient descent\n",
    "    a -= learning_rate * grad_a\n",
    "    b -= learning_rate * grad_b\n",
    "    c -= learning_rate * grad_c\n",
    "    d -= learning_rate * grad_d\n",
    "\n",
    "print(f'Result: y = {a.item()} + {b.item()} x + {c.item()} x^2 + {d.item()} x^3')"
   ]
  },
  {
   "cell_type": "code",
   "execution_count": null,
   "id": "56b76906",
   "metadata": {},
   "outputs": [],
   "source": [
    "def sin_pred(x):\n",
    "    return a + b * x + c * x ** 2 + d * x ** 3\n",
    "\n",
    "print(f'Sin(0) = {sin_pred(0)}')\n",
    "print(f'Sin(pi) = {sin_pred(math.pi)}')\n",
    "print(f'Sin(pi / 2) = {sin_pred(math.pi / 2)}')"
   ]
  },
  {
   "cell_type": "markdown",
   "id": "150955ac",
   "metadata": {},
   "source": [
    "# Autograd\n",
    "* Pytorch 可以自己算梯度"
   ]
  },
  {
   "cell_type": "code",
   "execution_count": null,
   "id": "d618a7af",
   "metadata": {},
   "outputs": [],
   "source": [
    "# Randomly initialize weights\n",
    "# Setting requires_grad=True indicates that we want to compute gradients with\n",
    "# respect to these Tensors during the backward pass\n",
    "a = torch.randn((), device=device, dtype=dtype, requires_grad=True)\n",
    "b = torch.randn((), device=device, dtype=dtype, requires_grad=True)\n",
    "c = torch.randn((), device=device, dtype=dtype, requires_grad=True)\n",
    "d = torch.randn((), device=device, dtype=dtype, requires_grad=True)\n",
    "\n",
    "# Gradient descent\n",
    "learning_rate = 1e-6\n",
    "print('iteration\\tloss')\n",
    "for t in range(2000):\n",
    "    y_pred = a + b * x + c * x ** 2 + d * x ** 3\n",
    "\n",
    "    loss = (y_pred - y).pow(2).sum()\n",
    "    if t % 100 == 0:\n",
    "        print(f'{t}\\t{loss}')\n",
    "\n",
    "    # Use autograd to compute the backward pass. This call will compute the\n",
    "    # gradient of loss with respect to all Tensors with requires_grad=True.\n",
    "    # After this call a.grad, b.grad. c.grad and d.grad will be Tensors holding\n",
    "    # the gradient of the loss with respect to a, b, c, d respectively.\n",
    "    loss.backward()\n",
    "\n",
    "    # Manually update weights using gradient descent. Wrap in torch.no_grad()\n",
    "    # because weights have requires_grad=True\n",
    "    with torch.no_grad():\n",
    "        a -= learning_rate * a.grad\n",
    "        b -= learning_rate * b.grad\n",
    "        c -= learning_rate * c.grad\n",
    "        d -= learning_rate * d.grad\n",
    "\n",
    "        # Manually zero the gradients after updating weights\n",
    "        a.grad = None\n",
    "        b.grad = None\n",
    "        c.grad = None\n",
    "        d.grad = None\n",
    "\n",
    "print(f'Result: y = {a.item()} + {b.item()} x + {c.item()} x^2 + {d.item()} x^3')"
   ]
  },
  {
   "cell_type": "markdown",
   "id": "ebe05527",
   "metadata": {},
   "source": [
    "# Using torch.nn to define custom module\n",
    "* 一般會把模型包成類別, 繼承 torch.nn.Module"
   ]
  },
  {
   "cell_type": "code",
   "execution_count": null,
   "id": "cb8853a9",
   "metadata": {},
   "outputs": [],
   "source": [
    "class Polynomial3(torch.nn.Module):\n",
    "    def __init__(self):\n",
    "        \"\"\"\n",
    "        In the constructor we instantiate four parameters and assign them as\n",
    "        member parameters.\n",
    "        \"\"\"\n",
    "        super().__init__()\n",
    "        self.a = torch.nn.Parameter(torch.randn(()))\n",
    "        self.b = torch.nn.Parameter(torch.randn(()))\n",
    "        self.c = torch.nn.Parameter(torch.randn(()))\n",
    "        self.d = torch.nn.Parameter(torch.randn(()))\n",
    "\n",
    "    def forward(self, x):\n",
    "        return self.a + self.b * x + self.c * x ** 2 + self.d * x ** 3\n",
    "\n",
    "    def string(self):\n",
    "        return f'y = {self.a.item()} + {self.b.item()} x + {self.c.item()} x^2 + {self.d.item()} x^3'"
   ]
  },
  {
   "cell_type": "code",
   "execution_count": null,
   "id": "e2df903b",
   "metadata": {},
   "outputs": [],
   "source": [
    "model = Polynomial3()\n",
    "# Mean Squared Error (MSE) as our loss function.\n",
    "loss_fn = torch.nn.MSELoss(reduction='sum')\n",
    "\n",
    "# Gradient descent\n",
    "learning_rate = 1e-6\n",
    "print('iteration\\tloss')\n",
    "for t in range(2000):\n",
    "    y_pred = model(x)\n",
    "    loss = loss_fn(y_pred, y)\n",
    "    \n",
    "    if t % 100 == 0:\n",
    "        print(f'{t}\\t{loss}')\n",
    "\n",
    "    # Zero the gradients before running the backward pass.\n",
    "    model.zero_grad()\n",
    "    loss.backward()\n",
    "\n",
    "    # Update the weights using gradient descent. Each parameter is a Tensor, so\n",
    "    # we can access its gradients like we did before.\n",
    "    with torch.no_grad():\n",
    "        for param in model.parameters():\n",
    "            param -= learning_rate * param.grad\n",
    "\n",
    "print(f'Result: {model.string()}')\n",
    "\n",
    "xx = torch.tensor([math.pi / 2], dtype=torch.float32)\n",
    "print(f'Sin(pi / 2) = {model(xx).item()}')\n",
    "\n",
    "xx = torch.tensor([0, math.pi / 2], dtype=torch.float32)\n",
    "print(f'Sin(0, pi / 2) = {model(xx)}')"
   ]
  },
  {
   "cell_type": "markdown",
   "id": "f95de115",
   "metadata": {},
   "source": [
    "# Neural network style\n",
    "* 等價的類神經網路風格的模型"
   ]
  },
  {
   "cell_type": "code",
   "execution_count": null,
   "id": "fa215bb1",
   "metadata": {},
   "outputs": [],
   "source": [
    "class Polynomial3_nn(torch.nn.Module):\n",
    "    def __init__(self):\n",
    "        super().__init__()\n",
    "        # y = wx + b\n",
    "        self.fc = torch.nn.Linear(3, 1)\n",
    "\n",
    "    def forward(self, x):\n",
    "        x = x.unsqueeze(-1)\n",
    "        x = torch.cat((x, x ** 2, x ** 3), 1)\n",
    "        y = self.fc(x)\n",
    "        return y.squeeze()\n",
    "\n",
    "    def string(self):\n",
    "        return f'y = {self.fc.bias.item()} + {self.fc.weight[:, 0].item()} x + {self.fc.weight[:, 1].item()} x^2 + {self.fc.weight[:, 2].item()} x^3'\n"
   ]
  },
  {
   "cell_type": "code",
   "execution_count": null,
   "id": "1eb7ac09",
   "metadata": {},
   "outputs": [],
   "source": [
    "model = Polynomial3_nn()\n",
    "loss_fn = torch.nn.MSELoss(reduction='sum')\n",
    "\n",
    "# Gradient descent\n",
    "learning_rate = 1e-6\n",
    "print('iteration\\tloss')\n",
    "for t in range(2000):\n",
    "    y_pred = model(x)\n",
    "\n",
    "    loss = loss_fn(y_pred, y)\n",
    "    if t % 100 == 0:\n",
    "        print(f'{t}\\t{loss}')\n",
    "\n",
    "    # Zero the gradients before running the backward pass.\n",
    "    model.zero_grad()\n",
    "    loss.backward()\n",
    "\n",
    "    with torch.no_grad():\n",
    "        for param in model.parameters():\n",
    "            param -= learning_rate * param.grad\n",
    "\n",
    "print(f'Result: {model.string()}')\n",
    "xx = torch.tensor([0, math.pi / 2], dtype=torch.float32)\n",
    "print(f'Sin(0, pi / 2) = {model(xx)}')"
   ]
  },
  {
   "cell_type": "markdown",
   "id": "2b7bdd67",
   "metadata": {},
   "source": [
    "# Using optimizer in PyTorch\n",
    "* 前面是使用 stochastic gradient descent (SGD)\n",
    "* pytorch 內建許多 optimizer, 主要是對步長做手腳(learning rate)\n",
    "* Ex: AdaGrad, RMSProp, Adam...etc"
   ]
  },
  {
   "cell_type": "code",
   "execution_count": null,
   "id": "cfd8abc9",
   "metadata": {},
   "outputs": [],
   "source": [
    "model = Polynomial3_nn()\n",
    "loss_fn = torch.nn.MSELoss(reduction='sum')\n",
    "\n",
    "# Gradient descent\n",
    "learning_rate = 1e-2\n",
    "# optimizer = torch.optim.SGD(model.parameters(), lr=learning_rate)\n",
    "optimizer = torch.optim.Adam(model.parameters(), lr=learning_rate)\n",
    "print('iteration\\tloss')\n",
    "for t in range(2000):\n",
    "    y_pred = model(x)\n",
    "\n",
    "    loss = loss_fn(y_pred, y)\n",
    "    if t % 100 == 0:\n",
    "        print(f'{t}\\t{loss}')\n",
    "\n",
    "    # Zero the gradients before running the backward pass.\n",
    "    model.zero_grad()\n",
    "    loss.backward()\n",
    "\n",
    "    # Calling the step function on an Optimizer makes an update to its parameters\n",
    "    optimizer.step()\n",
    "\n",
    "print(f'Result: {model.string()}')\n",
    "\n",
    "xx = torch.tensor([0, math.pi / 2], dtype=torch.float32)\n",
    "print(f'Sin(0, pi / 2) = {model(xx)}')"
   ]
  },
  {
   "cell_type": "markdown",
   "id": "3d2b40f5",
   "metadata": {},
   "source": [
    "# Convert pytorch (dynamic graph) to onnx (static graph)"
   ]
  },
  {
   "cell_type": "code",
   "execution_count": null,
   "id": "236c340b",
   "metadata": {},
   "outputs": [],
   "source": [
    "import torch.onnx\n",
    "\n",
    "dummy_input = torch.randn(1)\n",
    "torch.onnx.export(model, dummy_input, \"model.onnx\")"
   ]
  }
 ],
 "metadata": {
  "kernelspec": {
   "display_name": "Python 3 (ipykernel)",
   "language": "python",
   "name": "python3"
  },
  "language_info": {
   "codemirror_mode": {
    "name": "ipython",
    "version": 3
   },
   "file_extension": ".py",
   "mimetype": "text/x-python",
   "name": "python",
   "nbconvert_exporter": "python",
   "pygments_lexer": "ipython3",
   "version": "3.7.10"
  }
 },
 "nbformat": 4,
 "nbformat_minor": 5
}
